{
  "nbformat": 4,
  "nbformat_minor": 0,
  "metadata": {
    "colab": {
      "provenance": [],
      "gpuType": "T4"
    },
    "kernelspec": {
      "name": "python3",
      "display_name": "Python 3"
    },
    "language_info": {
      "name": "python"
    },
    "accelerator": "GPU"
  },
  "cells": [
    {
      "cell_type": "markdown",
      "source": [
        "Hiva Abolhadizadeh 400405004"
      ],
      "metadata": {
        "id": "nV2-Fu7NFF8u"
      }
    },
    {
      "cell_type": "markdown",
      "source": [
        "## Step 1: Environment Setup and Data Preparation"
      ],
      "metadata": {
        "id": "bkAdZDoDR_5M"
      }
    },
    {
      "cell_type": "code",
      "execution_count": 2,
      "metadata": {
        "id": "4PLPlJL7Roh4"
      },
      "outputs": [],
      "source": [
        "import torch\n",
        "import torch.nn as nn\n",
        "import torch.optim as optim\n",
        "import torchvision\n",
        "import torchvision.transforms as transforms\n",
        "import numpy as np\n",
        "import matplotlib.pyplot as plt\n",
        "import pandas as pd\n",
        "import os\n",
        "from tqdm import tqdm\n",
        "from collections import defaultdict\n",
        "from torch.utils.data import DataLoader"
      ]
    },
    {
      "cell_type": "code",
      "source": [
        "class CIFAR10DataLoader:\n",
        "    def __init__(self, batch_size=64, num_workers=2):\n",
        "        self.batch_size = batch_size\n",
        "        self.num_workers = num_workers\n",
        "        self.classes = ('plane', 'car', 'bird', 'cat', 'deer',\n",
        "                       'dog', 'frog', 'horse', 'ship', 'truck')\n",
        "\n",
        "        # Calculate mean and std for CIFAR-10\n",
        "        self.transform_train = transforms.Compose([\n",
        "            transforms.Resize(224),  # MobileNetV2 expects 224x224\n",
        "            transforms.RandomHorizontalFlip(),\n",
        "            transforms.RandomCrop(32, padding=4),\n",
        "            transforms.ToTensor(),\n",
        "            transforms.Normalize((0.4914, 0.4822, 0.4465), (0.2023, 0.1994, 0.2010)),\n",
        "        ])\n",
        "\n",
        "        self.transform_test = transforms.Compose([\n",
        "            transforms.Resize(224),\n",
        "            transforms.ToTensor(),\n",
        "            transforms.Normalize((0.4914, 0.4822, 0.4465), (0.2023, 0.1994, 0.2010)),\n",
        "        ])\n",
        "\n",
        "        self._load_datasets()\n",
        "        self._create_dataloaders()\n",
        "\n",
        "    def _load_datasets(self):\n",
        "        self.trainset = torchvision.datasets.CIFAR10(\n",
        "            root='./data', train=True, download=True, transform=self.transform_train)\n",
        "        self.testset = torchvision.datasets.CIFAR10(\n",
        "            root='./data', train=False, download=True, transform=self.transform_test)\n",
        "\n",
        "        # Split train into train and validation\n",
        "        train_size = int(0.8 * len(self.trainset))\n",
        "        val_size = len(self.trainset) - train_size\n",
        "        self.trainset, self.valset = torch.utils.data.random_split(\n",
        "            self.trainset, [train_size, val_size])\n",
        "\n",
        "    def _create_dataloaders(self):\n",
        "        self.trainloader = DataLoader(\n",
        "            self.trainset, batch_size=self.batch_size,\n",
        "            shuffle=True, num_workers=self.num_workers)\n",
        "        self.valloader = DataLoader(\n",
        "            self.valset, batch_size=self.batch_size,\n",
        "            shuffle=False, num_workers=self.num_workers)\n",
        "        self.testloader = DataLoader(\n",
        "            self.testset, batch_size=self.batch_size,\n",
        "            shuffle=False, num_workers=self.num_workers)\n",
        "\n",
        "    def visualize_samples(self, num_samples=10):\n",
        "        # Get random samples from the original dataset (before normalization)\n",
        "        temp_transform = transforms.Compose([\n",
        "            transforms.Resize(224),  # Still resize for consistency\n",
        "            transforms.ToTensor()\n",
        "        ])\n",
        "        temp_dataset = torchvision.datasets.CIFAR10(\n",
        "            root='./data', train=True, download=True, transform=temp_transform)\n",
        "\n",
        "        indices = np.random.choice(len(temp_dataset), num_samples)\n",
        "        images = [temp_dataset[i][0] for i in indices]\n",
        "        labels = [temp_dataset[i][1] for i in indices]\n",
        "\n",
        "        # Plot\n",
        "        plt.figure(figsize=(15, 5))\n",
        "        for i in range(num_samples):\n",
        "            plt.subplot(1, num_samples, i+1)\n",
        "            img = images[i].numpy().transpose((1, 2, 0))  # CHW to HWC\n",
        "            plt.imshow(img)\n",
        "            plt.title(self.classes[labels[i]])\n",
        "            plt.axis('off')\n",
        "        plt.show()\n",
        "\n",
        "    def get_class_distribution(self):\n",
        "        # Get class distribution for train, val, test\n",
        "        train_labels = [self.trainset[i][1] for i in range(len(self.trainset))]\n",
        "        val_labels = [self.valset[i][1] for i in range(len(self.valset))]\n",
        "        test_labels = [self.testset[i][1] for i in range(len(self.testset))]\n",
        "\n",
        "        # Create DataFrames\n",
        "        train_dist = pd.Series(train_labels).value_counts().sort_index()\n",
        "        val_dist = pd.Series(val_labels).value_counts().sort_index()\n",
        "        test_dist = pd.Series(test_labels).value_counts().sort_index()\n",
        "\n",
        "        df = pd.DataFrame({\n",
        "            'Train': train_dist,\n",
        "            'Validation': val_dist,\n",
        "            'Test': test_dist\n",
        "        })\n",
        "\n",
        "        # Plot\n",
        "        df.plot(kind='bar', figsize=(10, 5))\n",
        "        plt.title('Class Distribution Across Splits')\n",
        "        plt.xlabel('Class')\n",
        "        plt.ylabel('Count')\n",
        "        plt.xticks(range(10), self.classes, rotation=45)\n",
        "        plt.show()\n",
        "\n",
        "        return df"
      ],
      "metadata": {
        "id": "WT1ExAraSFMI"
      },
      "execution_count": 27,
      "outputs": []
    },
    {
      "cell_type": "code",
      "source": [
        "# Test Step 1\n",
        "data_loader = CIFAR10DataLoader()\n",
        "print(\"Data loaders created successfully!\")\n",
        "print(f\"Train batches: {len(data_loader.trainloader)}\")\n",
        "print(f\"Val batches: {len(data_loader.valloader)}\")\n",
        "print(f\"Test batches: {len(data_loader.testloader)}\")\n",
        "\n",
        "# Visualize samples and class distribution\n",
        "data_loader.visualize_samples()\n",
        "class_dist = data_loader.get_class_distribution()\n",
        "print(\"\\nClass Distribution:\")\n",
        "print(class_dist)"
      ],
      "metadata": {
        "colab": {
          "base_uri": "https://localhost:8080/",
          "height": 960
        },
        "id": "pD5e-36RSOv6",
        "outputId": "38f5fe7e-3efb-4314-9de3-d90c2735bcf6"
      },
      "execution_count": 7,
      "outputs": [
        {
          "metadata": {
            "tags": null
          },
          "name": "stdout",
          "output_type": "stream",
          "text": [
            "Data loaders created successfully!\n",
            "Train batches: 625\n",
            "Val batches: 157\n",
            "Test batches: 157\n"
          ]
        },
        {
          "data": {
            "image/png": "[encoded data removed]",
            "text/plain": [
              "<Figure size 1500x500 with 10 Axes>"
            ]
          },
          "metadata": {},
          "output_type": "display_data"
        },
        {
          "output_type": "display_data",
          "data": {
            "text/plain": [
              "<Figure size 1000x500 with 1 Axes>"
            ],
            "image/png": "[encoded data removed]"
          },
          "metadata": {}
        },
        {
          "output_type": "stream",
          "name": "stdout",
          "text": [
            "\n",
            "Class Distribution:\n",
            "   Train  Validation  Test\n",
            "0   4006         994  1000\n",
            "1   4009         991  1000\n",
            "2   4041         959  1000\n",
            "3   3979        1021  1000\n",
            "4   3999        1001  1000\n",
            "5   3960        1040  1000\n",
            "6   3992        1008  1000\n",
            "7   4003         997  1000\n",
            "8   3987        1013  1000\n",
            "9   4024         976  1000\n"
          ]
        }
      ]
    },
    {
      "cell_type": "markdown",
      "source": [
        "## Step 2: Base Model Setup"
      ],
      "metadata": {
        "id": "ef18h8buT-HI"
      }
    },
    {
      "cell_type": "code",
      "source": [
        "import torch.nn as nn\n",
        "import torchvision\n",
        "\n",
        "class TransferModel(nn.Module):\n",
        "    def __init__(self, base_model, head):\n",
        "        super().__init__()\n",
        "        self.base_model = base_model\n",
        "        self.head = head\n",
        "        # Add proper feature extraction\n",
        "        self.features = nn.Sequential(\n",
        "            base_model.features,\n",
        "            nn.AdaptiveAvgPool2d((1, 1))\n",
        "        )\n",
        "\n",
        "    def forward(self, x):\n",
        "        x = self.features(x)  # Output: (batch, 1280, 1, 1)\n",
        "        return self.head(x)\n",
        "\n",
        "from torchvision.models import MobileNet_V2_Weights\n",
        "\n",
        "class ModelBuilder:\n",
        "    def __init__(self, num_classes=10, unfreeze_layers=7):\n",
        "        self.num_classes = num_classes\n",
        "        self.unfreeze_layers = unfreeze_layers\n",
        "\n",
        "    def modify_stem(self, model):\n",
        "        \"\"\"Modify first conv layer for CIFAR-10's 32x32 input\"\"\"\n",
        "        model.features[0][0] = nn.Conv2d(\n",
        "            3, 32, kernel_size=3, stride=1, padding=1, bias=False)\n",
        "        model.features[0][1] = nn.BatchNorm2d(32)\n",
        "        return model\n",
        "\n",
        "    def get_base_model(self):\n",
        "        \"\"\"Get MobileNetV2 with modified stem and removed classifier\"\"\"\n",
        "        model = torchvision.models.mobilenet_v2(weights=MobileNet_V2_Weights.IMAGENET1K_V1)\n",
        "        model = self.modify_stem(model)\n",
        "        model.classifier = nn.Identity()\n",
        "        return model\n",
        "\n",
        "    def create_head(self, norm_type='batch'):\n",
        "        \"\"\"Create classification head with specified normalization\"\"\"\n",
        "        layers = [\n",
        "            nn.Flatten(),\n",
        "            nn.Linear(1280, 512),\n",
        "            nn.BatchNorm1d(512) if norm_type == 'batch' else nn.LayerNorm(512),\n",
        "            nn.ReLU(),\n",
        "            nn.Dropout(0.3),\n",
        "            nn.Linear(512, self.num_classes)\n",
        "        ]\n",
        "        return nn.Sequential(*layers)\n",
        "\n",
        "    def build_model(self, norm_type='batch'):  # This is the correct method name\n",
        "        \"\"\"Build complete transfer learning model\"\"\"\n",
        "        base_model = self.get_base_model()\n",
        "        head = self.create_head(norm_type)\n",
        "        model = TransferModel(base_model, head)\n",
        "\n",
        "        # Unfreeze specified layers\n",
        "        total_blocks = len(model.base_model.features)\n",
        "        for i in range(total_blocks - self.unfreeze_layers, total_blocks):\n",
        "            for param in model.base_model.features[i].parameters():\n",
        "                param.requires_grad = True\n",
        "\n",
        "        return model"
      ],
      "metadata": {
        "id": "JjVFCtBGSQ0f"
      },
      "execution_count": 20,
      "outputs": []
    },
    {
      "cell_type": "code",
      "source": [
        "# Test the implementation\n",
        "print(\"Building model...\")\n",
        "builder = ModelBuilder()\n",
        "model = builder.build_baseline_model()\n",
        "print(\"Model built successfully!\")"
      ],
      "metadata": {
        "colab": {
          "base_uri": "https://localhost:8080/"
        },
        "id": "qIEgZ3FWUKx8",
        "outputId": "41215805-4455-4f48-a3d5-d62fb6d88038"
      },
      "execution_count": 27,
      "outputs": [
        {
          "output_type": "stream",
          "name": "stdout",
          "text": [
            "Building model...\n",
            "Model built successfully!\n"
          ]
        }
      ]
    },
    {
      "cell_type": "code",
      "source": [
        "# Test forward pass\n",
        "print(\"\\nTesting forward pass...\")\n",
        "test_input = torch.randn(2, 3, 224, 224)  # Batch of 2 images\n",
        "print(f\"Input shape: {test_input.shape}\")"
      ],
      "metadata": {
        "colab": {
          "base_uri": "https://localhost:8080/"
        },
        "id": "J3hXdIX8UNAk",
        "outputId": "d6f5619f-b0af-424d-8ebc-ff83dca37759"
      },
      "execution_count": 28,
      "outputs": [
        {
          "output_type": "stream",
          "name": "stdout",
          "text": [
            "\n",
            "Testing forward pass...\n",
            "Input shape: torch.Size([2, 3, 224, 224])\n"
          ]
        }
      ]
    },
    {
      "cell_type": "code",
      "source": [
        "output = model(test_input)\n",
        "print(f\"\\nFinal output shape: {output.shape}\")"
      ],
      "metadata": {
        "colab": {
          "base_uri": "https://localhost:8080/"
        },
        "id": "SPca24RGUPm7",
        "outputId": "27042d1f-1082-4aff-ebb2-b9adb0ae7206"
      },
      "execution_count": 29,
      "outputs": [
        {
          "output_type": "stream",
          "name": "stdout",
          "text": [
            "\n",
            "Final output shape: torch.Size([2, 10])\n"
          ]
        }
      ]
    },
    {
      "cell_type": "code",
      "source": [
        "# Verify gradient flow\n",
        "output.sum().backward()\n",
        "print(\"\\nGradients in base model (should be None for most):\")\n",
        "for name, param in model.base_model.named_parameters():\n",
        "    if param.grad is not None:\n",
        "        print(f\"{name}: gradient exists\")\n",
        "\n",
        "print(\"\\nGradients in adaptation head:\")\n",
        "for name, param in model.adaptation_head.named_parameters():\n",
        "    if param.grad is not None:\n",
        "        print(f\"{name}: gradient exists\")"
      ],
      "metadata": {
        "colab": {
          "base_uri": "https://localhost:8080/"
        },
        "id": "QJnSbzCaW6Rz",
        "outputId": "4b69d9c2-6e5f-445c-dee0-9f2c8d0d857f"
      },
      "execution_count": 30,
      "outputs": [
        {
          "output_type": "stream",
          "name": "stdout",
          "text": [
            "\n",
            "Gradients in base model (should be None for most):\n",
            "\n",
            "Gradients in adaptation head:\n",
            "1.weight: gradient exists\n",
            "1.bias: gradient exists\n",
            "2.weight: gradient exists\n",
            "2.bias: gradient exists\n",
            "5.weight: gradient exists\n",
            "5.bias: gradient exists\n"
          ]
        }
      ]
    },
    {
      "cell_type": "markdown",
      "source": [
        "## Step 3: Implementing Normalization Variants"
      ],
      "metadata": {
        "id": "uzsNbhXTYHxt"
      }
    },
    {
      "cell_type": "code",
      "source": [
        "class BatchNormHead(nn.Module):\n",
        "    def __init__(self, input_features=1280, hidden_size=256, dropout_rate=0.5, num_classes=10):\n",
        "        super().__init__()\n",
        "        self.fc1 = nn.Linear(input_features, hidden_size)\n",
        "        self.bn1 = nn.BatchNorm1d(hidden_size)\n",
        "        self.dropout = nn.Dropout(dropout_rate)\n",
        "        self.fc2 = nn.Linear(hidden_size, num_classes)\n",
        "        self.relu = nn.ReLU()\n",
        "\n",
        "    def forward(self, x):\n",
        "        # x should be (batch, 1280, 1, 1)\n",
        "        x = x.flatten(1)  # Flatten to (batch, 1280)\n",
        "        x = self.fc1(x)\n",
        "        x = self.bn1(x)\n",
        "        x = self.relu(x)\n",
        "        x = self.dropout(x)\n",
        "        x = self.fc2(x)\n",
        "        return x"
      ],
      "metadata": {
        "id": "KU0QD7i_YAgH"
      },
      "execution_count": 7,
      "outputs": []
    },
    {
      "cell_type": "code",
      "source": [
        "class LayerNormHead(nn.Module):\n",
        "    def __init__(self, input_features=1280, hidden_size=256, dropout_rate=0.5, num_classes=10):\n",
        "        super().__init__()\n",
        "        self.flatten = nn.Flatten()\n",
        "        self.fc1 = nn.Linear(input_features, hidden_size)\n",
        "        self.ln1 = nn.LayerNorm(hidden_size)\n",
        "        self.dropout = nn.Dropout(dropout_rate)\n",
        "        self.fc2 = nn.Linear(hidden_size, num_classes)\n",
        "        self.relu = nn.ReLU()\n",
        "\n",
        "    def forward(self, x):\n",
        "        x = self.flatten(x)\n",
        "        x = self.fc1(x)\n",
        "        x = self.ln1(x)\n",
        "        x = self.relu(x)\n",
        "        x = self.dropout(x)\n",
        "        x = self.fc2(x)\n",
        "        return x"
      ],
      "metadata": {
        "id": "8YhLa1ppYbw5"
      },
      "execution_count": 8,
      "outputs": []
    },
    {
      "cell_type": "code",
      "source": [
        "class FilterResponseNorm(nn.Module):\n",
        "    def __init__(self, num_features, epsilon=1e-6):\n",
        "        super(FilterResponseNorm, self).__init__()\n",
        "        self.epsilon = epsilon\n",
        "        self.weight = nn.Parameter(torch.ones(1, num_features, 1, 1))\n",
        "        self.bias = nn.Parameter(torch.zeros(1, num_features, 1, 1))\n",
        "        self.tau = nn.Parameter(torch.zeros(1, num_features, 1, 1))\n",
        "\n",
        "    def forward(self, x):\n",
        "        # Compute mean and variance per channel\n",
        "        nu2 = torch.mean(x.pow(2), dim=(2, 3), keepdim=True)\n",
        "        x = x * torch.rsqrt(nu2 + self.epsilon)\n",
        "        return torch.max(self.weight * x + self.bias, self.tau)"
      ],
      "metadata": {
        "id": "86R8tGojYeTU"
      },
      "execution_count": 9,
      "outputs": []
    },
    {
      "cell_type": "code",
      "source": [
        "class FRNHead(nn.Module):\n",
        "    def __init__(self, input_features=1280, hidden_size=256, dropout_rate=0.5, num_classes=10):\n",
        "        super().__init__()\n",
        "        self.flatten = nn.Flatten()\n",
        "        self.fc1 = nn.Linear(input_features, hidden_size)\n",
        "        self.frn = FilterResponseNorm(hidden_size)\n",
        "        self.dropout = nn.Dropout(dropout_rate)\n",
        "        self.fc2 = nn.Linear(hidden_size, num_classes)\n",
        "        self.relu = nn.ReLU()\n",
        "\n",
        "    def forward(self, x):\n",
        "        x = self.flatten(x)\n",
        "        x = self.fc1(x)\n",
        "        x = x.unsqueeze(-1).unsqueeze(-1)  # Add spatial dims for FRN\n",
        "        x = self.frn(x)\n",
        "        x = x.squeeze(-1).squeeze(-1)  # Remove spatial dims\n",
        "        x = self.relu(x)\n",
        "        x = self.dropout(x)\n",
        "        x = self.fc2(x)\n",
        "        return x"
      ],
      "metadata": {
        "id": "XoRUvNFQYgnR"
      },
      "execution_count": 10,
      "outputs": []
    },
    {
      "cell_type": "code",
      "source": [
        "class HeadFactory:\n",
        "    @staticmethod\n",
        "    def create_head(norm_type, input_features=1280, hidden_size=256, dropout_rate=0.5, num_classes=10):\n",
        "        if norm_type == 'batch':\n",
        "            return BatchNormHead(input_features, hidden_size, dropout_rate, num_classes)\n",
        "        elif norm_type == 'layer':\n",
        "            return LayerNormHead(input_features, hidden_size, dropout_rate, num_classes)\n",
        "        elif norm_type == 'frn':\n",
        "            return FRNHead(input_features, hidden_size, dropout_rate, num_classes)\n",
        "        else:\n",
        "            raise ValueError(f\"Unsupported normalization type: {norm_type}\")"
      ],
      "metadata": {
        "id": "JQ7l2FxLYjOW"
      },
      "execution_count": 38,
      "outputs": []
    },
    {
      "cell_type": "code",
      "source": [
        "# Test Step 3\n",
        "test_input = torch.randn(2, 1280, 1, 1)  # Mock MobileNetV2 output"
      ],
      "metadata": {
        "id": "-fKW_Wv5YlTM"
      },
      "execution_count": 36,
      "outputs": []
    },
    {
      "cell_type": "code",
      "source": [
        "# Test BatchNorm head\n",
        "bn_head = HeadFactory.create_head('batch')\n",
        "output = bn_head(test_input)\n",
        "print(\"\\nBatchNorm head output shape:\", output.shape)"
      ],
      "metadata": {
        "colab": {
          "base_uri": "https://localhost:8080/"
        },
        "id": "21H157vJYnJY",
        "outputId": "bafb1eba-5fb4-4c76-b9d0-c119c4d0baee"
      },
      "execution_count": 38,
      "outputs": [
        {
          "output_type": "stream",
          "name": "stdout",
          "text": [
            "\n",
            "BatchNorm head output shape: torch.Size([2, 10])\n"
          ]
        }
      ]
    },
    {
      "cell_type": "code",
      "source": [
        "# Test LayerNorm head\n",
        "ln_head = HeadFactory.create_head('layer')\n",
        "output = ln_head(test_input)\n",
        "print(\"LayerNorm head output shape:\", output.shape)"
      ],
      "metadata": {
        "colab": {
          "base_uri": "https://localhost:8080/"
        },
        "id": "KV3nouAZY0L-",
        "outputId": "80d50bf2-d474-42ce-c67a-62a290b88814"
      },
      "execution_count": 39,
      "outputs": [
        {
          "output_type": "stream",
          "name": "stdout",
          "text": [
            "LayerNorm head output shape: torch.Size([2, 10])\n"
          ]
        }
      ]
    },
    {
      "cell_type": "code",
      "source": [
        "# Test FRN head\n",
        "frn_head = HeadFactory.create_head('frn')\n",
        "output = frn_head(test_input)\n",
        "print(\"FRN head output shape:\", output.shape)"
      ],
      "metadata": {
        "colab": {
          "base_uri": "https://localhost:8080/"
        },
        "id": "cNJU4h54Ytmd",
        "outputId": "4334e8ea-b198-4d01-8088-3c71b389c8e4"
      },
      "execution_count": 40,
      "outputs": [
        {
          "output_type": "stream",
          "name": "stdout",
          "text": [
            "FRN head output shape: torch.Size([2, 10])\n"
          ]
        }
      ]
    },
    {
      "cell_type": "code",
      "source": [
        "# Test gradient flow for all heads\n",
        "for head in [bn_head, ln_head, frn_head]:\n",
        "    output = head(test_input)\n",
        "    output.sum().backward()\n",
        "    print(f\"\\nGradients in {head.__class__.__name__}:\")\n",
        "    for name, param in head.named_parameters():\n",
        "        if param.grad is not None:\n",
        "            print(f\"{name}: gradient exists\")"
      ],
      "metadata": {
        "colab": {
          "base_uri": "https://localhost:8080/"
        },
        "id": "vK6iW17fY3BW",
        "outputId": "02c8b49e-173f-40fa-e3bc-f8a83b14df4a"
      },
      "execution_count": 41,
      "outputs": [
        {
          "output_type": "stream",
          "name": "stdout",
          "text": [
            "\n",
            "Gradients in BatchNormHead:\n",
            "fc1.weight: gradient exists\n",
            "fc1.bias: gradient exists\n",
            "bn1.weight: gradient exists\n",
            "bn1.bias: gradient exists\n",
            "fc2.weight: gradient exists\n",
            "fc2.bias: gradient exists\n",
            "\n",
            "Gradients in LayerNormHead:\n",
            "fc1.weight: gradient exists\n",
            "fc1.bias: gradient exists\n",
            "ln1.weight: gradient exists\n",
            "ln1.bias: gradient exists\n",
            "fc2.weight: gradient exists\n",
            "fc2.bias: gradient exists\n",
            "\n",
            "Gradients in FRNHead:\n",
            "fc1.weight: gradient exists\n",
            "fc1.bias: gradient exists\n",
            "frn.weight: gradient exists\n",
            "frn.bias: gradient exists\n",
            "frn.tau: gradient exists\n",
            "fc2.weight: gradient exists\n",
            "fc2.bias: gradient exists\n"
          ]
        }
      ]
    },
    {
      "cell_type": "markdown",
      "source": [
        "## Step 4: Gradient Analysis Infrastructure"
      ],
      "metadata": {
        "id": "u0v9qzgyZPEd"
      }
    },
    {
      "cell_type": "code",
      "source": [
        "class GradientTracker:\n",
        "    def __init__(self, model):\n",
        "        self.model = model\n",
        "        self.gradients = {}\n",
        "        self.handles = []\n",
        "\n",
        "        # Track these specific layers in our architecture\n",
        "        self.tracked_layers = [\n",
        "            'base_model.features.0.0',    # First conv layer\n",
        "            'base_model.features.18.0',  # Last conv block\n",
        "            'adaptation_head.2',         # First Linear (1280->256)\n",
        "            'adaptation_head.6'          # Final Linear (256->10)\n",
        "        ]\n",
        "        self._register_hooks()\n",
        "\n",
        "    def _register_hooks(self):\n",
        "        for name, module in self.model.named_modules():\n",
        "            if name in self.tracked_layers:\n",
        "                handle = module.register_backward_hook(self._make_hook(name))\n",
        "                self.handles.append(handle)\n",
        "\n",
        "    def _make_hook(self, name):\n",
        "        def hook(module, grad_input, grad_output):\n",
        "            self.gradients[name] = grad_output[0].detach().clone()\n",
        "        return hook\n",
        "\n",
        "    def get_gradients(self):\n",
        "        return self.gradients\n",
        "\n",
        "    def reset(self):\n",
        "        self.gradients = {}\n",
        "\n",
        "    def close(self):\n",
        "        for handle in self.handles:\n",
        "            handle.remove()\n",
        "\n",
        "def train_with_clipping(model, train_loader, optimizer, criterion, clip_value=None, device='cuda', max_batches=5):\n",
        "    model.train()\n",
        "    tracker = GradientTracker(model)\n",
        "    gradients = {}  # Store gradients here\n",
        "\n",
        "    for i, (inputs, labels) in enumerate(train_loader):\n",
        "        if i >= max_batches:\n",
        "            break\n",
        "\n",
        "        inputs, labels = inputs.to(device), labels.to(device)\n",
        "        optimizer.zero_grad()\n",
        "\n",
        "        outputs = model(inputs)\n",
        "        loss = criterion(outputs, labels)\n",
        "        loss.backward()\n",
        "\n",
        "        if clip_value is not None:\n",
        "            nn.utils.clip_grad_norm_(model.parameters(), clip_value)\n",
        "\n",
        "        optimizer.step()\n",
        "        gradients.update(tracker.get_gradients())  # Capture gradients\n",
        "        tracker.reset()\n",
        "\n",
        "    tracker.close()\n",
        "    return gradients"
      ],
      "metadata": {
        "id": "DRL9aSp6Y5fH"
      },
      "execution_count": 11,
      "outputs": []
    },
    {
      "cell_type": "code",
      "source": [
        "def train_with_clipping(model, train_loader, optimizer, criterion, clip_value=None, device='cuda'):\n",
        "    model.train()\n",
        "    tracker = GradientTracker(model)\n",
        "    gradients = {}\n",
        "\n",
        "    for inputs, labels in tqdm(train_loader, desc=\"Training\"):\n",
        "        inputs, labels = inputs.to(device), labels.to(device)\n",
        "        optimizer.zero_grad()\n",
        "\n",
        "        outputs = model(inputs)\n",
        "        loss = criterion(outputs, labels)\n",
        "        loss.backward()\n",
        "\n",
        "        if clip_value is not None:\n",
        "            nn.utils.clip_grad_norm_(model.parameters(), clip_value)\n",
        "\n",
        "        optimizer.step()\n",
        "        gradients.update(tracker.get_gradients())\n",
        "        tracker.reset()\n",
        "\n",
        "    tracker.close()\n",
        "    return gradients"
      ],
      "metadata": {
        "id": "tNBG0ZPGliBT"
      },
      "execution_count": 12,
      "outputs": []
    },
    {
      "cell_type": "code",
      "source": [
        "# 1. Model setup\n",
        "model = ModelBuilder().build_baseline_model().to('cuda')\n",
        "model.unfreeze_specific_layers(['features.18'])  # Unfreeze last conv block"
      ],
      "metadata": {
        "id": "G2PVOXD_j0ax"
      },
      "execution_count": 65,
      "outputs": []
    },
    {
      "cell_type": "code",
      "source": [
        "# 2. Training setup\n",
        "optimizer = optim.Adam([\n",
        "    {'params': model.base_model.parameters(), 'lr': 1e-5},  # Lower LR for base\n",
        "    {'params': model.adaptation_head.parameters(), 'lr': 1e-3}\n",
        "])\n",
        "criterion = nn.CrossEntropyLoss()"
      ],
      "metadata": {
        "id": "mBDqdIIbj2xD"
      },
      "execution_count": 66,
      "outputs": []
    },
    {
      "cell_type": "code",
      "source": [
        "# 3. Run training\n",
        "grads_no_clip = train_with_clipping(model, test_loader, optimizer, criterion, clip_value=None)\n",
        "grads_with_clip = train_with_clipping(model, test_loader, optimizer, criterion, clip_value=1.0)"
      ],
      "metadata": {
        "colab": {
          "base_uri": "https://localhost:8080/"
        },
        "id": "5kLMN_p6bpGI",
        "outputId": "f5f67b4b-2f63-4ff2-9092-346fd7aafc04"
      },
      "execution_count": 67,
      "outputs": [
        {
          "output_type": "stream",
          "name": "stderr",
          "text": [
            "Training: 100%|██████████| 4/4 [00:00<00:00, 12.95it/s]\n",
            "Training: 100%|██████████| 4/4 [00:00<00:00, 10.64it/s]\n"
          ]
        }
      ]
    },
    {
      "cell_type": "code",
      "source": [
        "# 4. Analysis\n",
        "print(\"\\nGradient Norm Comparison:\")\n",
        "for layer in ['base_model.features.18.0', 'adaptation_head.2']:\n",
        "    if layer in grads_no_clip and layer in grads_with_clip:\n",
        "        norm_no = grads_no_clip[layer].norm().item()\n",
        "        norm_clip = grads_with_clip[layer].norm().item()\n",
        "        change = 100*(norm_clip - norm_no)/norm_no  # More accurate calculation\n",
        "        print(f\"{layer}:\")\n",
        "        print(f\"  No clip: {norm_no:.4f}\")\n",
        "        print(f\"  Clipped: {norm_clip:.4f}\")\n",
        "        print(f\"  Change: {change:+.1f}%\")"
      ],
      "metadata": {
        "colab": {
          "base_uri": "https://localhost:8080/"
        },
        "id": "7VlUvZy5br8-",
        "outputId": "6e751350-39e9-483a-9424-8e16ff8159f7"
      },
      "execution_count": 68,
      "outputs": [
        {
          "output_type": "stream",
          "name": "stdout",
          "text": [
            "\n",
            "Gradient Norm Comparison:\n",
            "base_model.features.18.0:\n",
            "  No clip: 1.8291\n",
            "  Clipped: 1.6597\n",
            "  Change: -9.3%\n",
            "adaptation_head.2:\n",
            "  No clip: 0.2018\n",
            "  Clipped: 0.2078\n",
            "  Change: +3.0%\n"
          ]
        }
      ]
    },
    {
      "cell_type": "code",
      "source": [
        "def plot_gradient_distributions(grads_no_clip, grads_with_clip):\n",
        "    plt.figure(figsize=(12, 6))\n",
        "\n",
        "    # Layer names we want to visualize\n",
        "    layers = ['base_model.features.18.0', 'adaptation_head.2']\n",
        "    colors = ['#1f77b4', '#ff7f0e']\n",
        "\n",
        "    for i, layer in enumerate(layers):\n",
        "        if layer in grads_no_clip and layer in grads_with_clip:\n",
        "            plt.subplot(1, 2, i+1)\n",
        "\n",
        "            # Plot unclipped gradients\n",
        "            grad_no_clip = grads_no_clip[layer].cpu().numpy().flatten()\n",
        "            plt.hist(grad_no_clip, bins=50, alpha=0.6, color=colors[0],\n",
        "                    label=f'No Clip (σ={np.std(grad_no_clip):.2e})')\n",
        "\n",
        "            # Plot clipped gradients\n",
        "            grad_clip = grads_with_clip[layer].cpu().numpy().flatten()\n",
        "            plt.hist(grad_clip, bins=50, alpha=0.6, color=colors[1],\n",
        "                    label=f'Clipped (σ={np.std(grad_clip):.2e})')\n",
        "\n",
        "            plt.title(f'Gradient Distribution\\n{layer.split(\".\")[-1]}')\n",
        "            plt.xlabel('Gradient Value')\n",
        "            plt.ylabel('Frequency')\n",
        "            plt.yscale('log')  # Log scale for better visibility\n",
        "            plt.legend()\n",
        "            plt.grid(True, which=\"both\", ls=\"-\", alpha=0.2)\n",
        "\n",
        "    plt.tight_layout()\n",
        "    plt.show()"
      ],
      "metadata": {
        "id": "m0JuGx4ObyM2"
      },
      "execution_count": 13,
      "outputs": []
    },
    {
      "cell_type": "markdown",
      "source": [
        "## Step 5: Training Framework"
      ],
      "metadata": {
        "id": "6CaIUQKRq16D"
      }
    },
    {
      "cell_type": "code",
      "source": [
        "def train_model(model, train_loader, val_loader, optimizer, criterion,\n",
        "               num_epochs=15, device='cuda', use_grad_clip=False,\n",
        "               clip_value=1.0, gradient_tracker=None):\n",
        "\n",
        "    train_losses, val_losses = [], []\n",
        "    train_accs, val_accs = [], []\n",
        "\n",
        "    for epoch in range(num_epochs):\n",
        "        # Training phase\n",
        "        model.train()\n",
        "        running_loss = 0.0\n",
        "        correct = 0\n",
        "        total = 0\n",
        "\n",
        "        for inputs, labels in tqdm(train_loader, desc=f\"Epoch {epoch+1}/{num_epochs}\"):\n",
        "            inputs, labels = inputs.to(device), labels.to(device)\n",
        "\n",
        "            optimizer.zero_grad()\n",
        "            outputs = model(inputs)\n",
        "            loss = criterion(outputs, labels)\n",
        "            loss.backward()\n",
        "\n",
        "            if use_grad_clip:\n",
        "                nn.utils.clip_grad_norm_(model.parameters(), clip_value)\n",
        "\n",
        "            optimizer.step()\n",
        "\n",
        "            running_loss += loss.item()\n",
        "            _, predicted = outputs.max(1)\n",
        "            total += labels.size(0)\n",
        "            correct += predicted.eq(labels).sum().item()\n",
        "\n",
        "            if gradient_tracker:\n",
        "                gradient_tracker.reset()\n",
        "\n",
        "        train_loss = running_loss / len(train_loader)\n",
        "        train_acc = 100. * correct / total\n",
        "        train_losses.append(train_loss)\n",
        "        train_accs.append(train_acc)\n",
        "\n",
        "        # Validation phase\n",
        "        val_loss, val_acc = validate_model(model, val_loader, criterion, device)\n",
        "        val_losses.append(val_loss)\n",
        "        val_accs.append(val_acc)\n",
        "\n",
        "        print(f\"Epoch {epoch+1}: \"\n",
        "              f\"Train Loss: {train_loss:.4f} | Train Acc: {train_acc:.2f}% | \"\n",
        "              f\"Val Loss: {val_loss:.4f} | Val Acc: {val_acc:.2f}%\")\n",
        "\n",
        "    return {\n",
        "        'train_loss': train_losses,\n",
        "        'val_loss': val_losses,\n",
        "        'train_acc': train_accs,\n",
        "        'val_acc': val_accs\n",
        "    }\n",
        "\n",
        "def validate_model(model, val_loader, criterion, device='cpu'):\n",
        "    model.eval()\n",
        "    running_loss = 0.0\n",
        "    correct = 0\n",
        "    total = 0\n",
        "\n",
        "    with torch.no_grad():\n",
        "        for inputs, labels in val_loader:\n",
        "            inputs, labels = inputs.to(device), labels.to(device)\n",
        "            outputs = model(inputs)\n",
        "            loss = criterion(outputs, labels)\n",
        "\n",
        "            running_loss += loss.item()\n",
        "            _, predicted = outputs.max(1)\n",
        "            total += labels.size(0)\n",
        "            correct += predicted.eq(labels).sum().item()\n",
        "\n",
        "    val_loss = running_loss / len(val_loader)\n",
        "    val_acc = 100. * correct / total\n",
        "    return val_loss, val_acc\n",
        "\n",
        "class ExperimentManager:\n",
        "    def __init__(self, save_dir='./experiments'):\n",
        "        self.save_dir = save_dir\n",
        "        os.makedirs(save_dir, exist_ok=True)\n",
        "        self.experiments = {}\n",
        "\n",
        "    def run_experiment(self, name, model, train_loader, val_loader, **kwargs):\n",
        "        print(f\"\\nRunning experiment: {name}\")\n",
        "\n",
        "        # Initialize gradient tracker\n",
        "        gradient_tracker = GradientTracker(model) if kwargs.get('track_gradients', False) else None\n",
        "\n",
        "        # Train\n",
        "        results = train_model(\n",
        "            model=model,\n",
        "            train_loader=train_loader,\n",
        "            val_loader=val_loader,\n",
        "            optimizer=optim.Adam(model.parameters(), lr=kwargs.get('lr', 1e-3)),\n",
        "            criterion=nn.CrossEntropyLoss(),\n",
        "            num_epochs=kwargs.get('num_epochs', 15),\n",
        "            device=kwargs.get('device', 'cpu'),\n",
        "            use_grad_clip=kwargs.get('use_grad_clip', False),\n",
        "            clip_value=kwargs.get('clip_value', 1.0),\n",
        "            gradient_tracker=gradient_tracker\n",
        "        )\n",
        "\n",
        "        # Save gradients if tracked\n",
        "        if gradient_tracker:\n",
        "            results['gradients'] = gradient_tracker.get_gradients()\n",
        "\n",
        "        self.experiments[name] = results\n",
        "        self.save_results()\n",
        "        return results\n",
        "\n",
        "    def save_results(self):\n",
        "        torch.save(self.experiments, os.path.join(self.save_dir, 'experiments.pt'))\n",
        "        print(f\"Results saved to {os.path.join(self.save_dir, 'experiments.pt')}\")\n",
        "\n",
        "    def load_results(self):\n",
        "        path = os.path.join(self.save_dir, 'experiments.pt')\n",
        "        if os.path.exists(path):\n",
        "            self.experiments = torch.load(path)\n",
        "            return self.experiments\n",
        "        print(f\"No saved results found at {path}\")\n",
        "        return None"
      ],
      "metadata": {
        "id": "DAWoh-OAcnZU"
      },
      "execution_count": 14,
      "outputs": []
    },
    {
      "cell_type": "markdown",
      "source": [
        "##  Step 6: Loss Landscape Visualization"
      ],
      "metadata": {
        "id": "t35wdr1qCbU6"
      }
    },
    {
      "cell_type": "code",
      "source": [
        "class LossLandscapeAnalyzer:\n",
        "    def __init__(self, model, dataloader, criterion, device='cuda'):\n",
        "        self.model = model.to(device)\n",
        "        self.dataloader = dataloader\n",
        "        self.criterion = criterion\n",
        "        self.device = device\n",
        "\n",
        "    def get_random_directions(self, model_params=None):\n",
        "        \"\"\"Generate random directions for perturbation\"\"\"\n",
        "        if model_params is None:\n",
        "            # Get only parameters that require grad\n",
        "            model_params = [p for p in self.model.parameters() if p.requires_grad]\n",
        "\n",
        "        directions = []\n",
        "        for param in model_params:\n",
        "            if param is not None and param.requires_grad:\n",
        "                directions.append(torch.randn_like(param))\n",
        "        return directions\n",
        "\n",
        "    def compute_loss_landscape(self, alpha_range=(-1, 1), beta_range=(-1, 1),\n",
        "                             steps=10, direction1=None, direction2=None):\n",
        "        # Get directions if not provided\n",
        "        if direction1 is None or direction2 is None:\n",
        "            direction1 = self.get_random_directions()\n",
        "            direction2 = self.get_random_directions()\n",
        "\n",
        "        # Original parameters\n",
        "        original_params = [p.clone() for p in self.model.parameters() if p is not None]\n",
        "\n",
        "        # Create grid\n",
        "        alphas = torch.linspace(alpha_range[0], alpha_range[1], steps)\n",
        "        betas = torch.linspace(beta_range[0], beta_range[1], steps)\n",
        "        landscape = torch.zeros(steps, steps)\n",
        "\n",
        "        # Compute loss at each point\n",
        "        for i, alpha in enumerate(alphas):\n",
        "            for j, beta in enumerate(betas):\n",
        "                # Perturb parameters\n",
        "                for idx, param in enumerate(self.model.parameters()):\n",
        "                    if param is not None and param.requires_grad:\n",
        "                        param.data = original_params[idx] + alpha * direction1[idx] + beta * direction2[idx]\n",
        "\n",
        "                # Compute loss\n",
        "                running_loss = 0.0\n",
        "                with torch.no_grad():\n",
        "                    for inputs, labels in self.dataloader:\n",
        "                        inputs, labels = inputs.to(self.device), labels.to(self.device)\n",
        "                        outputs = self.model(inputs)\n",
        "                        loss = self.criterion(outputs, labels)\n",
        "                        running_loss += loss.item()\n",
        "\n",
        "                landscape[i, j] = running_loss / len(self.dataloader)\n",
        "\n",
        "        # Restore original parameters\n",
        "        for idx, param in enumerate(self.model.parameters()):\n",
        "            if param is not None and param.requires_grad:\n",
        "                param.data = original_params[idx]\n",
        "\n",
        "        return landscape, alphas, betas\n",
        "\n",
        "    def compute_head_loss_landscape(self, steps=10):\n",
        "        \"\"\"Focus on adaptation head parameters only\"\"\"\n",
        "        head_params = []\n",
        "        for name, param in self.model.named_parameters():\n",
        "            if 'adaptation_head' in name and param is not None:\n",
        "                head_params.append(param)\n",
        "\n",
        "        direction1 = self.get_random_directions(head_params)\n",
        "        direction2 = self.get_random_directions(head_params)\n",
        "\n",
        "        return self.compute_loss_landscape(\n",
        "            steps=steps,\n",
        "            direction1=direction1,\n",
        "            direction2=direction2\n",
        "        )"
      ],
      "metadata": {
        "id": "dIO8z0P8CteM"
      },
      "execution_count": 15,
      "outputs": []
    },
    {
      "cell_type": "markdown",
      "source": [
        " ## Step 7: Running Experiments"
      ],
      "metadata": {
        "id": "vt9NUR-bFX_R"
      }
    },
    {
      "cell_type": "markdown",
      "source": [
        "## Step 8: Analysis and Visualization"
      ],
      "metadata": {
        "id": "nbKBZEfqLTwc"
      }
    },
    {
      "cell_type": "code",
      "source": [
        "from torchvision import datasets, transforms\n",
        "import torch.nn.functional as F"
      ],
      "metadata": {
        "id": "_CMO4c_ua5wp"
      },
      "execution_count": 32,
      "outputs": []
    },
    {
      "cell_type": "code",
      "source": [
        "def run_step7_experiments():\n",
        "    device = torch.device('cuda' if torch.cuda.is_available() else 'cpu')\n",
        "    builder = ModelBuilder(num_classes=10, unfreeze_layers=7)\n",
        "    os.makedirs('./step7_results', exist_ok=True)\n",
        "\n",
        "    # Data loading with augmentation\n",
        "    train_transform = transforms.Compose([\n",
        "        transforms.RandomHorizontalFlip(),\n",
        "        transforms.RandomCrop(32, padding=4),\n",
        "        transforms.ToTensor(),\n",
        "        transforms.Normalize((0.4914, 0.4822, 0.4465), (0.2470, 0.2435, 0.2616))\n",
        "    ])\n",
        "\n",
        "    train_loader = DataLoader(\n",
        "        datasets.CIFAR10('./data', train=True, download=True, transform=train_transform),\n",
        "        batch_size=128, shuffle=True, num_workers=2)\n",
        "\n",
        "    val_loader = DataLoader(\n",
        "        datasets.CIFAR10('./data', train=False,\n",
        "                       transform=transforms.Compose([\n",
        "                           transforms.ToTensor(),\n",
        "                           transforms.Normalize((0.4914, 0.4822, 0.4465), (0.2470, 0.2435, 0.2616))\n",
        "                       ])),\n",
        "        batch_size=128, shuffle=False, num_workers=2)\n",
        "\n",
        "    experiment_configs = [\n",
        "        {'name': 'batchnorm_no_clip', 'norm_type': 'batch', 'use_grad_clip': False},\n",
        "        {'name': 'batchnorm_clip', 'norm_type': 'batch', 'use_grad_clip': True, 'clip_value': 1.0},\n",
        "        {'name': 'layernorm_no_clip', 'norm_type': 'layer', 'use_grad_clip': False},\n",
        "        {'name': 'layernorm_clip', 'norm_type': 'layer', 'use_grad_clip': True, 'clip_value': 1.0},\n",
        "        {'name': 'frn_no_clip', 'norm_type': 'frn', 'use_grad_clip': False},\n",
        "        {'name': 'frn_clip', 'norm_type': 'frn', 'use_grad_clip': True, 'clip_value': 1.0},\n",
        "    ]\n",
        "\n",
        "    # Initialize gradient tracker\n",
        "    gradient_stats = {}\n",
        "\n",
        "    # Prepare plots\n",
        "    plt.figure(figsize=(18, 12))\n",
        "    ax1 = plt.subplot(2, 3, 1)  # Loss curves\n",
        "    ax2 = plt.subplot(2, 3, 2)  # Accuracy curves\n",
        "    ax3 = plt.subplot(2, 3, 3)  # Gradient norms\n",
        "    ax4 = plt.subplot(2, 3, 4)  # Landscape visualization 1\n",
        "    ax5 = plt.subplot(2, 3, 5)  # Landscape visualization 2\n",
        "    ax6 = plt.subplot(2, 3, 6)  # Landscape visualization 3\n",
        "\n",
        "    for config in experiment_configs:\n",
        "        print(f\"\\n=== Running {config['name']} ===\")\n",
        "        model = builder.build_model(norm_type=config['norm_type']).to(device)\n",
        "\n",
        "        # Initialize trackers\n",
        "        train_losses = []\n",
        "        val_losses = []\n",
        "        train_accs = []\n",
        "        val_accs = []\n",
        "        grad_norms = []\n",
        "\n",
        "        optimizer = optim.AdamW([\n",
        "            {'params': model.base_model.parameters(), 'lr': 3e-4},\n",
        "            {'params': model.head.parameters(), 'lr': 1e-3}\n",
        "        ], weight_decay=1e-4)\n",
        "\n",
        "        # Training loop with tqdm\n",
        "        best_val_acc = 0\n",
        "        epoch_pbar = tqdm(range(25), desc=\"Training Progress\", position=0)\n",
        "        for epoch in epoch_pbar:\n",
        "            model.train()\n",
        "            epoch_train_loss = 0\n",
        "            correct = 0\n",
        "            total = 0\n",
        "            grad_norm = 0\n",
        "\n",
        "            # Training phase with progress bar\n",
        "            train_pbar = tqdm(train_loader, desc=f\"Epoch {epoch+1}/25 - Training\", leave=False, position=1)\n",
        "            for inputs, labels in train_pbar:\n",
        "                inputs, labels = inputs.to(device), labels.to(device)\n",
        "\n",
        "                optimizer.zero_grad()\n",
        "                outputs = model(inputs)\n",
        "                loss = F.cross_entropy(outputs, labels)\n",
        "                loss.backward()\n",
        "\n",
        "                # Track gradient statistics\n",
        "                total_grad_norm = 0\n",
        "                for p in model.parameters():\n",
        "                    if p.grad is not None:\n",
        "                        total_grad_norm += p.grad.norm().item()\n",
        "                grad_norm += total_grad_norm\n",
        "\n",
        "                if config['use_grad_clip']:\n",
        "                    nn.utils.clip_grad_norm_(model.parameters(), config['clip_value'])\n",
        "\n",
        "                optimizer.step()\n",
        "\n",
        "                epoch_train_loss += loss.item()\n",
        "                _, predicted = outputs.max(1)\n",
        "                total += labels.size(0)\n",
        "                correct += predicted.eq(labels).sum().item()\n",
        "\n",
        "                # Update training progress bar\n",
        "                train_pbar.set_postfix({\n",
        "                    'loss': f\"{epoch_train_loss/(train_pbar.n+1):.4f}\",\n",
        "                    'acc': f\"{100.*correct/total:.2f}%\"\n",
        "                })\n",
        "\n",
        "            # Validation phase with progress bar\n",
        "            model.eval()\n",
        "            val_loss = 0\n",
        "            val_correct = 0\n",
        "            val_total = 0\n",
        "\n",
        "            val_pbar = tqdm(val_loader, desc=f\"Epoch {epoch+1}/25 - Validation\", leave=False, position=1)\n",
        "            with torch.no_grad():\n",
        "                for inputs, labels in val_pbar:\n",
        "                    inputs, labels = inputs.to(device), labels.to(device)\n",
        "                    outputs = model(inputs)\n",
        "                    val_loss += F.cross_entropy(outputs, labels).item()\n",
        "                    _, predicted = outputs.max(1)\n",
        "                    val_total += labels.size(0)\n",
        "                    val_correct += predicted.eq(labels).sum().item()\n",
        "\n",
        "                    # Update validation progress bar\n",
        "                    val_pbar.set_postfix({\n",
        "                        'val_loss': f\"{val_loss/(val_pbar.n+1):.4f}\",\n",
        "                        'val_acc': f\"{100.*val_correct/val_total:.2f}%\"\n",
        "                    })\n",
        "\n",
        "            # Save metrics\n",
        "            train_loss = epoch_train_loss/len(train_loader)\n",
        "            val_loss = val_loss/len(val_loader)\n",
        "            train_acc = 100.*correct/total\n",
        "            val_acc = 100.*val_correct/val_total\n",
        "\n",
        "            train_losses.append(train_loss)\n",
        "            val_losses.append(val_loss)\n",
        "            train_accs.append(train_acc)\n",
        "            val_accs.append(val_acc)\n",
        "            grad_norms.append(grad_norm/len(train_loader))\n",
        "\n",
        "            # Update epoch progress bar\n",
        "            epoch_pbar.set_postfix({\n",
        "                'train_loss': f\"{train_loss:.4f}\",\n",
        "                'train_acc': f\"{train_acc:.2f}%\",\n",
        "                'val_loss': f\"{val_loss:.4f}\",\n",
        "                'val_acc': f\"{val_acc:.2f}%\",\n",
        "                'grad_norm': f\"{grad_norms[-1]:.2f}\"\n",
        "            })\n",
        "\n",
        "            # Save best model\n",
        "            if val_acc > best_val_acc:\n",
        "                best_val_acc = val_acc\n",
        "                torch.save({\n",
        "                    'epoch': epoch,\n",
        "                    'model_state_dict': model.state_dict(),\n",
        "                    'optimizer_state_dict': optimizer.state_dict(),\n",
        "                    'loss': val_loss,\n",
        "                    'acc': val_acc\n",
        "                }, f\"./step7_results/{config['name']}_best.pth\")\n",
        "\n",
        "        # Close nested progress bars\n",
        "        train_pbar.close()\n",
        "        val_pbar.close()\n",
        "\n",
        "        # Save final model and logs\n",
        "        torch.save({\n",
        "            'model_state_dict': model.state_dict(),\n",
        "            'config': config,\n",
        "            'train_losses': train_losses,\n",
        "            'val_losses': val_losses,\n",
        "            'train_accs': train_accs,\n",
        "            'val_accs': val_accs,\n",
        "            'grad_norms': grad_norms\n",
        "        }, f\"./step7_results/{config['name']}_final.pth\")\n",
        "\n",
        "        # Plot training curves\n",
        "        ax1.plot(train_losses, label=f\"{config['name']} Train\")\n",
        "        ax1.plot(val_losses, '--', label=f\"{config['name']} Val\")\n",
        "        ax2.plot(train_accs, label=f\"{config['name']} Train\")\n",
        "        ax2.plot(val_accs, '--', label=f\"{config['name']} Val\")\n",
        "        ax3.plot(grad_norms, label=config['name'])\n",
        "\n",
        "        # Compute and save loss landscape\n",
        "        try:\n",
        "            analyzer = LossLandscapeAnalyzer(model, val_loader, nn.CrossEntropyLoss(), device)\n",
        "            landscape, alphas, betas = analyzer.compute_head_loss_landscape(steps=15)\n",
        "\n",
        "            torch.save({\n",
        "                'landscape': landscape,\n",
        "                'alphas': alphas,\n",
        "                'betas': betas\n",
        "            }, f\"./step7_results/{config['name']}_landscape.pt\")\n",
        "\n",
        "            # Visualize selected landscapes\n",
        "            if config['norm_type'] == 'batch':\n",
        "                ax4.contourf(alphas.cpu(), betas.cpu(), landscape.cpu(), levels=20, cmap='viridis')\n",
        "                ax4.set_title(f\"BatchNorm Landscape\")\n",
        "            elif config['norm_type'] == 'layer':\n",
        "                ax5.contourf(alphas.cpu(), betas.cpu(), landscape.cpu(), levels=20, cmap='viridis')\n",
        "                ax5.set_title(f\"LayerNorm Landscape\")\n",
        "            elif config['norm_type'] == 'frn':\n",
        "                ax6.contourf(alphas.cpu(), betas.cpu(), landscape.cpu(), levels=20, cmap='viridis')\n",
        "                ax6.set_title(f\"FRN Landscape\")\n",
        "\n",
        "        except Exception as e:\n",
        "            print(f\"Error computing landscape: {str(e)}\")\n",
        "\n",
        "    # Finalize plots\n",
        "    ax1.set_title('Training and Validation Loss')\n",
        "    ax1.set_xlabel('Epoch')\n",
        "    ax1.set_ylabel('Loss')\n",
        "    ax1.legend()\n",
        "    ax1.grid()\n",
        "\n",
        "    ax2.set_title('Training and Validation Accuracy')\n",
        "    ax2.set_xlabel('Epoch')\n",
        "    ax2.set_ylabel('Accuracy (%)')\n",
        "    ax2.legend()\n",
        "    ax2.grid()\n",
        "\n",
        "    ax3.set_title('Gradient Norms During Training')\n",
        "    ax3.set_xlabel('Epoch')\n",
        "    ax3.set_ylabel('Gradient Norm')\n",
        "    ax3.legend()\n",
        "    ax3.grid()\n",
        "\n",
        "    plt.tight_layout()\n",
        "    plt.savefig('./step7_results/training_analysis.png')\n",
        "    plt.close()\n",
        "\n",
        "    print(\"\\nAll experiments completed!\")\n",
        "    print(\"Saved results to ./step7_results/\")"
      ],
      "metadata": {
        "id": "L_7VOartOwEP"
      },
      "execution_count": 37,
      "outputs": []
    },
    {
      "cell_type": "code",
      "source": [
        "# Run with error handling\n",
        "try:\n",
        "    run_step7_and_8_experiments()\n",
        "    plot_all_loss_curves()  # Visualize results\n",
        "except Exception as e:\n",
        "    print(f\"Error running experiments: {str(e)}\")"
      ],
      "metadata": {
        "colab": {
          "base_uri": "https://localhost:8080/"
        },
        "id": "I7CljXcxFxsv",
        "outputId": "7005a439-193c-49c8-acb7-fa0812630d95"
      },
      "execution_count": 38,
      "outputs": [
        {
          "output_type": "stream",
          "name": "stdout",
          "text": [
            "\n",
            "=== Running batchnorm_no_clip ===\n",
            "Epoch 1: Train Loss: 1.1017 | Train Acc: 61.00% | Val Loss: 0.7745 | Val Acc: 73.73% | Grad Norm: 47.77\n",
            "Epoch 2: Train Loss: 0.7191 | Train Acc: 75.23% | Val Loss: 0.6021 | Val Acc: 79.43% | Grad Norm: 36.26\n",
            "Epoch 3: Train Loss: 0.5811 | Train Acc: 79.85% | Val Loss: 0.5386 | Val Acc: 81.14% | Grad Norm: 34.33\n",
            "Epoch 4: Train Loss: 0.4952 | Train Acc: 82.98% | Val Loss: 0.4601 | Val Acc: 83.92% | Grad Norm: 33.05\n",
            "Epoch 5: Train Loss: 0.4350 | Train Acc: 84.89% | Val Loss: 0.4219 | Val Acc: 85.09% | Grad Norm: 32.43\n",
            "Epoch 6: Train Loss: 0.3914 | Train Acc: 86.43% | Val Loss: 0.3978 | Val Acc: 86.35% | Grad Norm: 32.08\n",
            "Epoch 7: Train Loss: 0.3559 | Train Acc: 87.72% | Val Loss: 0.3758 | Val Acc: 87.25% | Grad Norm: 31.38\n",
            "Epoch 8: Train Loss: 0.3269 | Train Acc: 88.83% | Val Loss: 0.3585 | Val Acc: 87.70% | Grad Norm: 30.77\n",
            "Epoch 9: Train Loss: 0.2987 | Train Acc: 89.65% | Val Loss: 0.3406 | Val Acc: 88.42% | Grad Norm: 30.65\n",
            "Epoch 10: Train Loss: 0.2739 | Train Acc: 90.61% | Val Loss: 0.3417 | Val Acc: 88.42% | Grad Norm: 30.69\n",
            "Epoch 11: Train Loss: 0.2566 | Train Acc: 91.13% | Val Loss: 0.3300 | Val Acc: 89.10% | Grad Norm: 30.40\n",
            "Epoch 12: Train Loss: 0.2406 | Train Acc: 91.71% | Val Loss: 0.3394 | Val Acc: 88.43% | Grad Norm: 30.13\n",
            "Epoch 13: Train Loss: 0.2198 | Train Acc: 92.28% | Val Loss: 0.3306 | Val Acc: 89.34% | Grad Norm: 30.21\n",
            "Epoch 14: Train Loss: 0.2155 | Train Acc: 92.55% | Val Loss: 0.3236 | Val Acc: 89.56% | Grad Norm: 29.74\n",
            "Epoch 15: Train Loss: 0.1950 | Train Acc: 93.21% | Val Loss: 0.3484 | Val Acc: 89.36% | Grad Norm: 29.67\n",
            "Epoch 16: Train Loss: 0.1874 | Train Acc: 93.44% | Val Loss: 0.3433 | Val Acc: 89.31% | Grad Norm: 29.28\n",
            "Epoch 17: Train Loss: 0.1760 | Train Acc: 93.93% | Val Loss: 0.3375 | Val Acc: 89.74% | Grad Norm: 29.57\n",
            "Epoch 18: Train Loss: 0.1684 | Train Acc: 94.20% | Val Loss: 0.3356 | Val Acc: 89.77% | Grad Norm: 29.30\n",
            "Epoch 19: Train Loss: 0.1616 | Train Acc: 94.39% | Val Loss: 0.3450 | Val Acc: 89.73% | Grad Norm: 29.11\n",
            "Epoch 20: Train Loss: 0.1514 | Train Acc: 94.73% | Val Loss: 0.3428 | Val Acc: 89.73% | Grad Norm: 28.57\n",
            "Epoch 21: Train Loss: 0.1481 | Train Acc: 94.77% | Val Loss: 0.3351 | Val Acc: 90.02% | Grad Norm: 28.81\n",
            "Epoch 22: Train Loss: 0.1402 | Train Acc: 95.08% | Val Loss: 0.3210 | Val Acc: 90.03% | Grad Norm: 28.58\n",
            "Epoch 23: Train Loss: 0.1343 | Train Acc: 95.26% | Val Loss: 0.3485 | Val Acc: 89.78% | Grad Norm: 28.36\n",
            "Epoch 24: Train Loss: 0.1312 | Train Acc: 95.42% | Val Loss: 0.3292 | Val Acc: 90.47% | Grad Norm: 28.33\n",
            "Epoch 25: Train Loss: 0.1205 | Train Acc: 95.77% | Val Loss: 0.3366 | Val Acc: 90.50% | Grad Norm: 27.47\n",
            "Error computing landscape: list index out of range\n",
            "\n",
            "=== Running batchnorm_clip ===\n",
            "Epoch 1: Train Loss: 1.0628 | Train Acc: 62.46% | Val Loss: 0.7363 | Val Acc: 75.16% | Grad Norm: 46.15\n",
            "Epoch 2: Train Loss: 0.6556 | Train Acc: 77.55% | Val Loss: 0.5321 | Val Acc: 81.60% | Grad Norm: 34.51\n",
            "Epoch 3: Train Loss: 0.5215 | Train Acc: 82.14% | Val Loss: 0.4683 | Val Acc: 83.61% | Grad Norm: 32.74\n",
            "Epoch 4: Train Loss: 0.4365 | Train Acc: 84.88% | Val Loss: 0.4181 | Val Acc: 85.82% | Grad Norm: 31.55\n",
            "Epoch 5: Train Loss: 0.3890 | Train Acc: 86.88% | Val Loss: 0.3782 | Val Acc: 87.18% | Grad Norm: 31.47\n",
            "Epoch 6: Train Loss: 0.3433 | Train Acc: 88.18% | Val Loss: 0.3608 | Val Acc: 87.36% | Grad Norm: 31.10\n",
            "Epoch 7: Train Loss: 0.3149 | Train Acc: 89.23% | Val Loss: 0.3526 | Val Acc: 88.01% | Grad Norm: 31.31\n",
            "Epoch 8: Train Loss: 0.2858 | Train Acc: 90.13% | Val Loss: 0.3628 | Val Acc: 87.77% | Grad Norm: 30.65\n",
            "Epoch 9: Train Loss: 0.2645 | Train Acc: 90.94% | Val Loss: 0.3096 | Val Acc: 89.59% | Grad Norm: 30.74\n",
            "Epoch 10: Train Loss: 0.2439 | Train Acc: 91.59% | Val Loss: 0.3414 | Val Acc: 89.14% | Grad Norm: 30.43\n",
            "Epoch 11: Train Loss: 0.2278 | Train Acc: 92.20% | Val Loss: 0.3276 | Val Acc: 89.69% | Grad Norm: 30.54\n",
            "Epoch 12: Train Loss: 0.2152 | Train Acc: 92.67% | Val Loss: 0.3134 | Val Acc: 89.92% | Grad Norm: 30.35\n",
            "Epoch 13: Train Loss: 0.1999 | Train Acc: 93.10% | Val Loss: 0.3485 | Val Acc: 89.56% | Grad Norm: 30.71\n",
            "Epoch 14: Train Loss: 0.1888 | Train Acc: 93.45% | Val Loss: 0.3240 | Val Acc: 89.83% | Grad Norm: 29.80\n",
            "Epoch 15: Train Loss: 0.1788 | Train Acc: 93.80% | Val Loss: 0.3163 | Val Acc: 90.10% | Grad Norm: 30.12\n",
            "Epoch 16: Train Loss: 0.1741 | Train Acc: 94.04% | Val Loss: 0.3059 | Val Acc: 90.99% | Grad Norm: 29.73\n",
            "Epoch 17: Train Loss: 0.1639 | Train Acc: 94.38% | Val Loss: 0.3207 | Val Acc: 90.01% | Grad Norm: 29.67\n",
            "Epoch 18: Train Loss: 0.1527 | Train Acc: 94.66% | Val Loss: 0.3230 | Val Acc: 90.55% | Grad Norm: 29.56\n",
            "Epoch 19: Train Loss: 0.1499 | Train Acc: 94.82% | Val Loss: 0.3176 | Val Acc: 90.46% | Grad Norm: 29.40\n",
            "Epoch 20: Train Loss: 0.1375 | Train Acc: 95.32% | Val Loss: 0.3496 | Val Acc: 90.33% | Grad Norm: 29.63\n",
            "Epoch 21: Train Loss: 0.1352 | Train Acc: 95.33% | Val Loss: 0.3211 | Val Acc: 90.62% | Grad Norm: 29.54\n",
            "Epoch 22: Train Loss: 0.1291 | Train Acc: 95.54% | Val Loss: 0.3246 | Val Acc: 90.94% | Grad Norm: 29.18\n",
            "Epoch 23: Train Loss: 0.1270 | Train Acc: 95.60% | Val Loss: 0.3377 | Val Acc: 90.26% | Grad Norm: 29.37\n",
            "Epoch 24: Train Loss: 0.1180 | Train Acc: 95.86% | Val Loss: 0.3436 | Val Acc: 90.51% | Grad Norm: 28.83\n",
            "Epoch 25: Train Loss: 0.1133 | Train Acc: 96.04% | Val Loss: 0.3340 | Val Acc: 90.71% | Grad Norm: 29.08\n",
            "Error computing landscape: list index out of range\n",
            "\n",
            "=== Running layernorm_no_clip ===\n",
            "Epoch 1: Train Loss: 1.1044 | Train Acc: 61.58% | Val Loss: 0.7576 | Val Acc: 73.94% | Grad Norm: 43.92\n",
            "Epoch 2: Train Loss: 0.7167 | Train Acc: 75.35% | Val Loss: 0.5736 | Val Acc: 80.42% | Grad Norm: 36.65\n",
            "Epoch 3: Train Loss: 0.5733 | Train Acc: 80.37% | Val Loss: 0.5102 | Val Acc: 82.48% | Grad Norm: 34.29\n",
            "Epoch 4: Train Loss: 0.4970 | Train Acc: 83.00% | Val Loss: 0.4676 | Val Acc: 83.81% | Grad Norm: 33.79\n",
            "Epoch 5: Train Loss: 0.4407 | Train Acc: 84.84% | Val Loss: 0.4512 | Val Acc: 84.47% | Grad Norm: 32.88\n",
            "Epoch 6: Train Loss: 0.3969 | Train Acc: 86.41% | Val Loss: 0.3997 | Val Acc: 85.98% | Grad Norm: 31.90\n",
            "Epoch 7: Train Loss: 0.3643 | Train Acc: 87.50% | Val Loss: 0.4017 | Val Acc: 86.47% | Grad Norm: 31.98\n",
            "Epoch 8: Train Loss: 0.3344 | Train Acc: 88.69% | Val Loss: 0.3971 | Val Acc: 86.88% | Grad Norm: 31.38\n",
            "Epoch 9: Train Loss: 0.3070 | Train Acc: 89.29% | Val Loss: 0.3692 | Val Acc: 87.68% | Grad Norm: 31.77\n",
            "Epoch 10: Train Loss: 0.2862 | Train Acc: 90.14% | Val Loss: 0.3593 | Val Acc: 87.82% | Grad Norm: 31.45\n",
            "Epoch 11: Train Loss: 0.2699 | Train Acc: 90.76% | Val Loss: 0.3563 | Val Acc: 87.76% | Grad Norm: 30.87\n",
            "Epoch 12: Train Loss: 0.2535 | Train Acc: 91.36% | Val Loss: 0.3544 | Val Acc: 88.24% | Grad Norm: 30.89\n",
            "Epoch 13: Train Loss: 0.2387 | Train Acc: 91.65% | Val Loss: 0.3655 | Val Acc: 87.88% | Grad Norm: 31.09\n",
            "Epoch 14: Train Loss: 0.2191 | Train Acc: 92.38% | Val Loss: 0.3531 | Val Acc: 88.75% | Grad Norm: 30.48\n",
            "Epoch 15: Train Loss: 0.2142 | Train Acc: 92.41% | Val Loss: 0.3315 | Val Acc: 89.22% | Grad Norm: 31.06\n",
            "Epoch 16: Train Loss: 0.2005 | Train Acc: 93.03% | Val Loss: 0.3579 | Val Acc: 88.77% | Grad Norm: 30.25\n",
            "Epoch 17: Train Loss: 0.1925 | Train Acc: 93.39% | Val Loss: 0.3550 | Val Acc: 89.01% | Grad Norm: 30.17\n",
            "Epoch 18: Train Loss: 0.1835 | Train Acc: 93.63% | Val Loss: 0.3536 | Val Acc: 88.93% | Grad Norm: 30.22\n",
            "Epoch 19: Train Loss: 0.1764 | Train Acc: 93.84% | Val Loss: 0.3312 | Val Acc: 89.59% | Grad Norm: 29.70\n",
            "Epoch 20: Train Loss: 0.1686 | Train Acc: 94.18% | Val Loss: 0.3451 | Val Acc: 89.69% | Grad Norm: 29.76\n",
            "Epoch 21: Train Loss: 0.1577 | Train Acc: 94.49% | Val Loss: 0.3279 | Val Acc: 90.12% | Grad Norm: 29.44\n",
            "Epoch 22: Train Loss: 0.1504 | Train Acc: 94.75% | Val Loss: 0.3500 | Val Acc: 89.52% | Grad Norm: 29.71\n",
            "Epoch 23: Train Loss: 0.1478 | Train Acc: 94.94% | Val Loss: 0.3394 | Val Acc: 89.43% | Grad Norm: 28.97\n",
            "Epoch 24: Train Loss: 0.1435 | Train Acc: 95.04% | Val Loss: 0.3588 | Val Acc: 89.84% | Grad Norm: 29.30\n",
            "Epoch 25: Train Loss: 0.1326 | Train Acc: 95.39% | Val Loss: 0.3502 | Val Acc: 90.01% | Grad Norm: 28.92\n",
            "Error computing landscape: list index out of range\n",
            "\n",
            "=== Running layernorm_clip ===\n",
            "Epoch 1: Train Loss: 1.1349 | Train Acc: 60.22% | Val Loss: 0.7558 | Val Acc: 74.44% | Grad Norm: 43.30\n",
            "Epoch 2: Train Loss: 0.7129 | Train Acc: 75.60% | Val Loss: 0.6019 | Val Acc: 79.67% | Grad Norm: 35.59\n",
            "Epoch 3: Train Loss: 0.5686 | Train Acc: 80.70% | Val Loss: 0.5026 | Val Acc: 83.15% | Grad Norm: 33.40\n",
            "Epoch 4: Train Loss: 0.4906 | Train Acc: 83.14% | Val Loss: 0.4551 | Val Acc: 84.33% | Grad Norm: 32.32\n",
            "Epoch 5: Train Loss: 0.4313 | Train Acc: 85.28% | Val Loss: 0.4363 | Val Acc: 85.60% | Grad Norm: 31.94\n",
            "Epoch 6: Train Loss: 0.3855 | Train Acc: 86.74% | Val Loss: 0.4049 | Val Acc: 86.45% | Grad Norm: 31.41\n",
            "Epoch 7: Train Loss: 0.3540 | Train Acc: 87.80% | Val Loss: 0.3783 | Val Acc: 87.38% | Grad Norm: 30.92\n",
            "Epoch 8: Train Loss: 0.3227 | Train Acc: 88.87% | Val Loss: 0.3775 | Val Acc: 87.57% | Grad Norm: 31.18\n",
            "Epoch 9: Train Loss: 0.2994 | Train Acc: 89.69% | Val Loss: 0.3621 | Val Acc: 87.97% | Grad Norm: 30.89\n",
            "Epoch 10: Train Loss: 0.2767 | Train Acc: 90.53% | Val Loss: 0.3428 | Val Acc: 88.79% | Grad Norm: 30.66\n",
            "Epoch 11: Train Loss: 0.2577 | Train Acc: 91.18% | Val Loss: 0.3577 | Val Acc: 88.39% | Grad Norm: 30.41\n",
            "Epoch 12: Train Loss: 0.2410 | Train Acc: 91.75% | Val Loss: 0.3552 | Val Acc: 88.44% | Grad Norm: 30.65\n",
            "Epoch 13: Train Loss: 0.2298 | Train Acc: 91.95% | Val Loss: 0.3511 | Val Acc: 88.71% | Grad Norm: 30.46\n",
            "Epoch 14: Train Loss: 0.2144 | Train Acc: 92.47% | Val Loss: 0.3386 | Val Acc: 89.18% | Grad Norm: 30.74\n",
            "Epoch 15: Train Loss: 0.2030 | Train Acc: 92.91% | Val Loss: 0.3318 | Val Acc: 89.56% | Grad Norm: 30.63\n",
            "Epoch 16: Train Loss: 0.1977 | Train Acc: 93.20% | Val Loss: 0.3423 | Val Acc: 89.29% | Grad Norm: 30.20\n",
            "Epoch 17: Train Loss: 0.1847 | Train Acc: 93.63% | Val Loss: 0.3335 | Val Acc: 89.36% | Grad Norm: 30.26\n",
            "Epoch 18: Train Loss: 0.1788 | Train Acc: 93.73% | Val Loss: 0.3436 | Val Acc: 89.56% | Grad Norm: 29.82\n",
            "Epoch 19: Train Loss: 0.1648 | Train Acc: 94.31% | Val Loss: 0.3218 | Val Acc: 89.92% | Grad Norm: 30.20\n",
            "Epoch 20: Train Loss: 0.1587 | Train Acc: 94.40% | Val Loss: 0.3501 | Val Acc: 89.92% | Grad Norm: 30.13\n",
            "Epoch 21: Train Loss: 0.1573 | Train Acc: 94.61% | Val Loss: 0.3250 | Val Acc: 89.94% | Grad Norm: 29.75\n",
            "Epoch 22: Train Loss: 0.1449 | Train Acc: 94.83% | Val Loss: 0.3483 | Val Acc: 89.78% | Grad Norm: 29.95\n",
            "Epoch 23: Train Loss: 0.1442 | Train Acc: 94.98% | Val Loss: 0.3330 | Val Acc: 89.89% | Grad Norm: 29.61\n",
            "Epoch 24: Train Loss: 0.1381 | Train Acc: 95.15% | Val Loss: 0.3375 | Val Acc: 90.02% | Grad Norm: 29.37\n",
            "Epoch 25: Train Loss: 0.1310 | Train Acc: 95.46% | Val Loss: 0.3417 | Val Acc: 90.09% | Grad Norm: 29.01\n",
            "Error computing landscape: list index out of range\n",
            "\n",
            "=== Running frn_no_clip ===\n",
            "Epoch 1: Train Loss: 1.0716 | Train Acc: 62.74% | Val Loss: 0.7303 | Val Acc: 74.46% | Grad Norm: 44.07\n",
            "Epoch 2: Train Loss: 0.6780 | Train Acc: 76.82% | Val Loss: 0.5757 | Val Acc: 80.59% | Grad Norm: 36.70\n",
            "Epoch 3: Train Loss: 0.5456 | Train Acc: 81.17% | Val Loss: 0.4941 | Val Acc: 83.23% | Grad Norm: 34.45\n",
            "Epoch 4: Train Loss: 0.4694 | Train Acc: 83.89% | Val Loss: 0.4295 | Val Acc: 85.06% | Grad Norm: 33.25\n",
            "Epoch 5: Train Loss: 0.4058 | Train Acc: 86.11% | Val Loss: 0.4236 | Val Acc: 85.99% | Grad Norm: 32.46\n",
            "Epoch 6: Train Loss: 0.3689 | Train Acc: 87.30% | Val Loss: 0.3957 | Val Acc: 86.47% | Grad Norm: 32.03\n",
            "Epoch 7: Train Loss: 0.3324 | Train Acc: 88.65% | Val Loss: 0.3711 | Val Acc: 87.63% | Grad Norm: 31.68\n",
            "Epoch 8: Train Loss: 0.3078 | Train Acc: 89.53% | Val Loss: 0.3558 | Val Acc: 88.33% | Grad Norm: 31.05\n",
            "Epoch 9: Train Loss: 0.2810 | Train Acc: 90.34% | Val Loss: 0.3595 | Val Acc: 88.16% | Grad Norm: 30.76\n",
            "Epoch 10: Train Loss: 0.2617 | Train Acc: 90.99% | Val Loss: 0.3403 | Val Acc: 88.68% | Grad Norm: 30.63\n",
            "Epoch 11: Train Loss: 0.2417 | Train Acc: 91.77% | Val Loss: 0.3351 | Val Acc: 89.05% | Grad Norm: 30.44\n",
            "Epoch 12: Train Loss: 0.2366 | Train Acc: 91.87% | Val Loss: 0.3271 | Val Acc: 89.12% | Grad Norm: 30.69\n",
            "Epoch 13: Train Loss: 0.2132 | Train Acc: 92.59% | Val Loss: 0.3365 | Val Acc: 89.21% | Grad Norm: 30.49\n",
            "Epoch 14: Train Loss: 0.2036 | Train Acc: 92.87% | Val Loss: 0.3127 | Val Acc: 90.02% | Grad Norm: 30.27\n",
            "Epoch 15: Train Loss: 0.1928 | Train Acc: 93.29% | Val Loss: 0.3046 | Val Acc: 90.29% | Grad Norm: 30.14\n",
            "Epoch 16: Train Loss: 0.1806 | Train Acc: 93.71% | Val Loss: 0.3202 | Val Acc: 89.75% | Grad Norm: 29.17\n",
            "Epoch 17: Train Loss: 0.1723 | Train Acc: 94.02% | Val Loss: 0.3183 | Val Acc: 90.15% | Grad Norm: 29.51\n",
            "Epoch 18: Train Loss: 0.1644 | Train Acc: 94.28% | Val Loss: 0.3185 | Val Acc: 89.91% | Grad Norm: 29.61\n",
            "Epoch 19: Train Loss: 0.1579 | Train Acc: 94.48% | Val Loss: 0.3412 | Val Acc: 89.42% | Grad Norm: 28.61\n",
            "Epoch 20: Train Loss: 0.1478 | Train Acc: 94.85% | Val Loss: 0.3067 | Val Acc: 90.52% | Grad Norm: 28.44\n",
            "Epoch 21: Train Loss: 0.1437 | Train Acc: 94.97% | Val Loss: 0.3300 | Val Acc: 90.21% | Grad Norm: 28.93\n",
            "Epoch 22: Train Loss: 0.1381 | Train Acc: 95.12% | Val Loss: 0.3382 | Val Acc: 90.28% | Grad Norm: 28.54\n",
            "Epoch 23: Train Loss: 0.1294 | Train Acc: 95.51% | Val Loss: 0.3302 | Val Acc: 90.28% | Grad Norm: 28.07\n",
            "Epoch 24: Train Loss: 0.1280 | Train Acc: 95.45% | Val Loss: 0.3309 | Val Acc: 90.40% | Grad Norm: 28.18\n",
            "Epoch 25: Train Loss: 0.1225 | Train Acc: 95.60% | Val Loss: 0.3349 | Val Acc: 90.47% | Grad Norm: 28.36\n",
            "Error computing landscape: list index out of range\n",
            "\n",
            "=== Running frn_clip ===\n",
            "Epoch 1: Train Loss: 1.0744 | Train Acc: 62.37% | Val Loss: 0.7387 | Val Acc: 74.48% | Grad Norm: 43.76\n",
            "Epoch 2: Train Loss: 0.6785 | Train Acc: 76.91% | Val Loss: 0.5842 | Val Acc: 80.01% | Grad Norm: 35.77\n",
            "Epoch 3: Train Loss: 0.5516 | Train Acc: 81.25% | Val Loss: 0.5261 | Val Acc: 81.85% | Grad Norm: 33.82\n",
            "Epoch 4: Train Loss: 0.4813 | Train Acc: 83.66% | Val Loss: 0.4878 | Val Acc: 83.50% | Grad Norm: 32.62\n",
            "Epoch 5: Train Loss: 0.4233 | Train Acc: 85.39% | Val Loss: 0.4402 | Val Acc: 85.27% | Grad Norm: 32.07\n",
            "Epoch 6: Train Loss: 0.3835 | Train Acc: 86.85% | Val Loss: 0.4117 | Val Acc: 86.15% | Grad Norm: 31.75\n",
            "Epoch 7: Train Loss: 0.3496 | Train Acc: 87.99% | Val Loss: 0.3891 | Val Acc: 87.15% | Grad Norm: 31.23\n",
            "Epoch 8: Train Loss: 0.3228 | Train Acc: 88.91% | Val Loss: 0.3842 | Val Acc: 87.41% | Grad Norm: 31.18\n",
            "Epoch 9: Train Loss: 0.2979 | Train Acc: 89.90% | Val Loss: 0.3820 | Val Acc: 87.23% | Grad Norm: 30.73\n",
            "Epoch 10: Train Loss: 0.2794 | Train Acc: 90.31% | Val Loss: 0.3749 | Val Acc: 87.81% | Grad Norm: 30.93\n",
            "Epoch 11: Train Loss: 0.2624 | Train Acc: 91.05% | Val Loss: 0.3509 | Val Acc: 88.59% | Grad Norm: 30.54\n",
            "Epoch 12: Train Loss: 0.2435 | Train Acc: 91.67% | Val Loss: 0.3432 | Val Acc: 88.91% | Grad Norm: 30.80\n",
            "Epoch 13: Train Loss: 0.2294 | Train Acc: 92.11% | Val Loss: 0.3449 | Val Acc: 89.17% | Grad Norm: 30.57\n",
            "Epoch 14: Train Loss: 0.2180 | Train Acc: 92.48% | Val Loss: 0.3378 | Val Acc: 89.44% | Grad Norm: 30.42\n",
            "Epoch 15: Train Loss: 0.2066 | Train Acc: 92.91% | Val Loss: 0.3521 | Val Acc: 88.93% | Grad Norm: 30.65\n",
            "Epoch 16: Train Loss: 0.1958 | Train Acc: 93.21% | Val Loss: 0.3417 | Val Acc: 89.19% | Grad Norm: 30.86\n",
            "Epoch 17: Train Loss: 0.1842 | Train Acc: 93.52% | Val Loss: 0.3339 | Val Acc: 89.72% | Grad Norm: 30.48\n",
            "Epoch 18: Train Loss: 0.1766 | Train Acc: 93.88% | Val Loss: 0.3508 | Val Acc: 89.46% | Grad Norm: 30.84\n",
            "Epoch 19: Train Loss: 0.1707 | Train Acc: 94.04% | Val Loss: 0.3439 | Val Acc: 89.58% | Grad Norm: 30.46\n",
            "Epoch 20: Train Loss: 0.1625 | Train Acc: 94.39% | Val Loss: 0.3328 | Val Acc: 89.96% | Grad Norm: 30.34\n",
            "Epoch 21: Train Loss: 0.1536 | Train Acc: 94.57% | Val Loss: 0.3260 | Val Acc: 90.12% | Grad Norm: 30.33\n",
            "Epoch 22: Train Loss: 0.1468 | Train Acc: 94.97% | Val Loss: 0.3544 | Val Acc: 89.56% | Grad Norm: 30.25\n",
            "Epoch 23: Train Loss: 0.1465 | Train Acc: 94.84% | Val Loss: 0.3315 | Val Acc: 90.08% | Grad Norm: 30.10\n",
            "Epoch 24: Train Loss: 0.1382 | Train Acc: 95.19% | Val Loss: 0.3705 | Val Acc: 89.45% | Grad Norm: 29.61\n",
            "Epoch 25: Train Loss: 0.1298 | Train Acc: 95.47% | Val Loss: 0.3368 | Val Acc: 90.36% | Grad Norm: 29.59\n",
            "Error computing landscape: list index out of range\n",
            "\n",
            "All experiments completed!\n",
            "Saved results to ./step7_results/\n",
            "Error running experiments: name 'plot_all_loss_curves' is not defined\n"
          ]
        }
      ]
    }
  ]
}